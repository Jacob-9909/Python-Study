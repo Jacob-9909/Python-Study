{
 "cells": [
  {
   "cell_type": "code",
   "execution_count": 19,
   "metadata": {},
   "outputs": [
    {
     "name": "stdout",
     "output_type": "stream",
     "text": [
      "Pikachu\n",
      "26\n",
      "Venusaur\n",
      "16\n",
      "14\n"
     ]
    }
   ],
   "source": [
    "class Node:\n",
    "    def __init__(self, data=None, num=None):\n",
    "        self.data = data\n",
    "        self.num = num\n",
    "        self.left = None\n",
    "        self.right = None\n",
    "\n",
    "class Tree:\n",
    "    def __init__(self):\n",
    "        self.root  = None\n",
    "    \n",
    "    def insert(self,data,num):\n",
    "        node = Node(data,num)\n",
    "        parent = None\n",
    "        current = self.root\n",
    "\n",
    "        while current:\n",
    "            if node.data <current.data:\n",
    "                parent = current\n",
    "                current = current.left\n",
    "            else:\n",
    "                parent = current\n",
    "                current = current.right\n",
    "\n",
    "        if parent is None:\n",
    "            self.root = node\n",
    "        elif node.data < parent.data:\n",
    "            parent.left = node\n",
    "        else: \n",
    "            parent.right = node\n",
    "\n",
    "    def inorder(self):\n",
    "        self._inorder(self.root)\n",
    "    \n",
    "    def _inorder(self, node):\n",
    "        if node:\n",
    "            self._inorder(node.left)\n",
    "            print(node.data, end ='\\n')\n",
    "            self._inorder(node.right)\n",
    "\n",
    "    def search(self,target):\n",
    "        current = self.root\n",
    "        while True:\n",
    "            if target == current.data:\n",
    "                return current\n",
    "            elif target < current.data:\n",
    "                current = current.left\n",
    "            elif target > current.data:\n",
    "                current = current.right\n",
    "\n",
    "n, m = map(int, sys.stdin.readline().split())\n",
    "name_list = []\n",
    "tree = Tree()\n",
    "for i in range(1, n+1):\n",
    "    name = input()\n",
    "    tree.insert(name, i)\n",
    "    name_list.append(name)\n",
    "\n",
    "for _j in range(m):\n",
    "    target = input()\n",
    "    if target.isnumeric():\n",
    "        print(name_list[int(target)-1])\n",
    "    else:\n",
    "        print(tree.search(target).num)\n",
    "\n",
    "\n"
   ]
  }
 ],
 "metadata": {
  "interpreter": {
   "hash": "eee639eda16c9e05b4c77b43e0cc7d48f6e599f20bfdf495043e1fe9a8ebacc8"
  },
  "kernelspec": {
   "display_name": "Python 3.9.7 ('kwix')",
   "language": "python",
   "name": "python3"
  },
  "language_info": {
   "codemirror_mode": {
    "name": "ipython",
    "version": 3
   },
   "file_extension": ".py",
   "mimetype": "text/x-python",
   "name": "python",
   "nbconvert_exporter": "python",
   "pygments_lexer": "ipython3",
   "version": "3.9.7"
  },
  "orig_nbformat": 4
 },
 "nbformat": 4,
 "nbformat_minor": 2
}
